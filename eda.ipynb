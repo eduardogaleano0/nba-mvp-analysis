{
 "cells": [
  {
   "cell_type": "code",
   "id": "initial_id",
   "metadata": {
    "collapsed": true,
    "ExecuteTime": {
     "end_time": "2025-08-16T08:10:15.165023Z",
     "start_time": "2025-08-16T08:10:15.149470Z"
    }
   },
   "source": [
    "import pandas as pd\n",
    "import matplotlib.pyplot as plt\n",
    "import seaborn as sns\n",
    "import plotly.express as px\n",
    "import plotly.io as pio\n",
    "pio.renderers.default = 'iframe'\n",
    "\n",
    "sns.set(style=\"whitegrid\")\n",
    "plt.rcParams[\"figure.figsize\"] = (12, 6)\n",
    "\n",
    "# Carregar CSV\n",
    "df_mvp = pd.read_csv(\"mvp_stats.csv\")\n",
    "\n",
    "# Visualizar as primeiras linhas\n",
    "df_mvp.head()"
   ],
   "outputs": [
    {
     "data": {
      "text/plain": [
       "  SEASON_ID TEAM_ABBREVIATION  PLAYER_AGE  GP  GS   MIN  FGM   FGA  FG_PCT  \\\n",
       "0   1975-76               LAL        29.0  82  82  3379  914  1728   0.529   \n",
       "1   1976-77               LAL        30.0  82  82  3016  888  1533   0.579   \n",
       "2   1979-80               LAL        33.0  82  81  3143  835  1383   0.604   \n",
       "3   1977-78               POR        25.0  58   0  1929  460   882   0.522   \n",
       "4   1978-79               HOU        24.0  82  82  3390  716  1325   0.540   \n",
       "\n",
       "   FG3M  ...  OREB  DREB   REB  AST  STL  BLK  TOV   PF   PTS  \\\n",
       "0     0  ...   272  1111  1383  413  119  338    0  292  2275   \n",
       "1     0  ...   266   824  1090  319  101  261    0  262  2152   \n",
       "2     0  ...   190   696   886  371   81  280  297  216  2034   \n",
       "3     0  ...   118   648   766  291   60  146  206  145  1097   \n",
       "4     0  ...   587   857  1444  147   79  119  326  223  2031   \n",
       "\n",
       "           PLAYER_NAME  \n",
       "0  Kareem Abdul-Jabbar  \n",
       "1  Kareem Abdul-Jabbar  \n",
       "2  Kareem Abdul-Jabbar  \n",
       "3          Bill Walton  \n",
       "4         Moses Malone  \n",
       "\n",
       "[5 rows x 25 columns]"
      ],
      "text/html": [
       "<div>\n",
       "<style scoped>\n",
       "    .dataframe tbody tr th:only-of-type {\n",
       "        vertical-align: middle;\n",
       "    }\n",
       "\n",
       "    .dataframe tbody tr th {\n",
       "        vertical-align: top;\n",
       "    }\n",
       "\n",
       "    .dataframe thead th {\n",
       "        text-align: right;\n",
       "    }\n",
       "</style>\n",
       "<table border=\"1\" class=\"dataframe\">\n",
       "  <thead>\n",
       "    <tr style=\"text-align: right;\">\n",
       "      <th></th>\n",
       "      <th>SEASON_ID</th>\n",
       "      <th>TEAM_ABBREVIATION</th>\n",
       "      <th>PLAYER_AGE</th>\n",
       "      <th>GP</th>\n",
       "      <th>GS</th>\n",
       "      <th>MIN</th>\n",
       "      <th>FGM</th>\n",
       "      <th>FGA</th>\n",
       "      <th>FG_PCT</th>\n",
       "      <th>FG3M</th>\n",
       "      <th>...</th>\n",
       "      <th>OREB</th>\n",
       "      <th>DREB</th>\n",
       "      <th>REB</th>\n",
       "      <th>AST</th>\n",
       "      <th>STL</th>\n",
       "      <th>BLK</th>\n",
       "      <th>TOV</th>\n",
       "      <th>PF</th>\n",
       "      <th>PTS</th>\n",
       "      <th>PLAYER_NAME</th>\n",
       "    </tr>\n",
       "  </thead>\n",
       "  <tbody>\n",
       "    <tr>\n",
       "      <th>0</th>\n",
       "      <td>1975-76</td>\n",
       "      <td>LAL</td>\n",
       "      <td>29.0</td>\n",
       "      <td>82</td>\n",
       "      <td>82</td>\n",
       "      <td>3379</td>\n",
       "      <td>914</td>\n",
       "      <td>1728</td>\n",
       "      <td>0.529</td>\n",
       "      <td>0</td>\n",
       "      <td>...</td>\n",
       "      <td>272</td>\n",
       "      <td>1111</td>\n",
       "      <td>1383</td>\n",
       "      <td>413</td>\n",
       "      <td>119</td>\n",
       "      <td>338</td>\n",
       "      <td>0</td>\n",
       "      <td>292</td>\n",
       "      <td>2275</td>\n",
       "      <td>Kareem Abdul-Jabbar</td>\n",
       "    </tr>\n",
       "    <tr>\n",
       "      <th>1</th>\n",
       "      <td>1976-77</td>\n",
       "      <td>LAL</td>\n",
       "      <td>30.0</td>\n",
       "      <td>82</td>\n",
       "      <td>82</td>\n",
       "      <td>3016</td>\n",
       "      <td>888</td>\n",
       "      <td>1533</td>\n",
       "      <td>0.579</td>\n",
       "      <td>0</td>\n",
       "      <td>...</td>\n",
       "      <td>266</td>\n",
       "      <td>824</td>\n",
       "      <td>1090</td>\n",
       "      <td>319</td>\n",
       "      <td>101</td>\n",
       "      <td>261</td>\n",
       "      <td>0</td>\n",
       "      <td>262</td>\n",
       "      <td>2152</td>\n",
       "      <td>Kareem Abdul-Jabbar</td>\n",
       "    </tr>\n",
       "    <tr>\n",
       "      <th>2</th>\n",
       "      <td>1979-80</td>\n",
       "      <td>LAL</td>\n",
       "      <td>33.0</td>\n",
       "      <td>82</td>\n",
       "      <td>81</td>\n",
       "      <td>3143</td>\n",
       "      <td>835</td>\n",
       "      <td>1383</td>\n",
       "      <td>0.604</td>\n",
       "      <td>0</td>\n",
       "      <td>...</td>\n",
       "      <td>190</td>\n",
       "      <td>696</td>\n",
       "      <td>886</td>\n",
       "      <td>371</td>\n",
       "      <td>81</td>\n",
       "      <td>280</td>\n",
       "      <td>297</td>\n",
       "      <td>216</td>\n",
       "      <td>2034</td>\n",
       "      <td>Kareem Abdul-Jabbar</td>\n",
       "    </tr>\n",
       "    <tr>\n",
       "      <th>3</th>\n",
       "      <td>1977-78</td>\n",
       "      <td>POR</td>\n",
       "      <td>25.0</td>\n",
       "      <td>58</td>\n",
       "      <td>0</td>\n",
       "      <td>1929</td>\n",
       "      <td>460</td>\n",
       "      <td>882</td>\n",
       "      <td>0.522</td>\n",
       "      <td>0</td>\n",
       "      <td>...</td>\n",
       "      <td>118</td>\n",
       "      <td>648</td>\n",
       "      <td>766</td>\n",
       "      <td>291</td>\n",
       "      <td>60</td>\n",
       "      <td>146</td>\n",
       "      <td>206</td>\n",
       "      <td>145</td>\n",
       "      <td>1097</td>\n",
       "      <td>Bill Walton</td>\n",
       "    </tr>\n",
       "    <tr>\n",
       "      <th>4</th>\n",
       "      <td>1978-79</td>\n",
       "      <td>HOU</td>\n",
       "      <td>24.0</td>\n",
       "      <td>82</td>\n",
       "      <td>82</td>\n",
       "      <td>3390</td>\n",
       "      <td>716</td>\n",
       "      <td>1325</td>\n",
       "      <td>0.540</td>\n",
       "      <td>0</td>\n",
       "      <td>...</td>\n",
       "      <td>587</td>\n",
       "      <td>857</td>\n",
       "      <td>1444</td>\n",
       "      <td>147</td>\n",
       "      <td>79</td>\n",
       "      <td>119</td>\n",
       "      <td>326</td>\n",
       "      <td>223</td>\n",
       "      <td>2031</td>\n",
       "      <td>Moses Malone</td>\n",
       "    </tr>\n",
       "  </tbody>\n",
       "</table>\n",
       "<p>5 rows × 25 columns</p>\n",
       "</div>"
      ]
     },
     "execution_count": 126,
     "metadata": {},
     "output_type": "execute_result"
    }
   ],
   "execution_count": 126
  },
  {
   "metadata": {
    "ExecuteTime": {
     "end_time": "2025-08-16T08:10:15.218529Z",
     "start_time": "2025-08-16T08:10:15.215849Z"
    }
   },
   "cell_type": "code",
   "source": [
    "# 1 - Perfil do Jogador MVP\n",
    "\n",
    "## 1.1 Idade média dos MVPs\n",
    "## 1.2 Idade mínima e máxima de um MVP\n",
    "## 1.3 Idade do MVP por década"
   ],
   "id": "bf3ea1c57851a438",
   "outputs": [],
   "execution_count": 127
  },
  {
   "metadata": {
    "ExecuteTime": {
     "end_time": "2025-08-16T08:10:15.282759Z",
     "start_time": "2025-08-16T08:10:15.277038Z"
    }
   },
   "cell_type": "code",
   "source": [
    "## 1.1 Idade média dos MVPs\n",
    "idade_media = df_mvp[\"PLAYER_AGE\"].mean()\n",
    "\n",
    "# Jogadores mais próximos da média\n",
    "dif_media = abs(df_mvp[\"PLAYER_AGE\"] - idade_media)\n",
    "jogador_media = df_mvp.loc[dif_media == dif_media.min(), \"PLAYER_NAME\"].unique()\n",
    "\n",
    "print(f\" Idade média dos MVPs: {idade_media:.1f} anos — Jogador(es) mais próximo da média: {', '.join(jogador_media)}\")"
   ],
   "id": "9c8546596c3c837d",
   "outputs": [
    {
     "name": "stdout",
     "output_type": "stream",
     "text": [
      " Idade média dos MVPs: 28.1 anos — Jogador(es) mais próximo da média: Moses Malone, Larry Bird, Michael Jordan, Shaquille O'Neal, Kevin Garnett, LeBron James, Stephen Curry, Russell Westbrook, James Harden\n"
     ]
    }
   ],
   "execution_count": 128
  },
  {
   "metadata": {
    "ExecuteTime": {
     "end_time": "2025-08-16T08:10:15.381569Z",
     "start_time": "2025-08-16T08:10:15.376507Z"
    }
   },
   "cell_type": "code",
   "source": [
    "## 1.2 Idade mínima e máxima de um MVP\n",
    "idade_min = df_mvp[\"PLAYER_AGE\"].min()\n",
    "idade_max = df_mvp[\"PLAYER_AGE\"].max()\n",
    "\n",
    "# Jogador(es) com idade mínima\n",
    "jogador_min = df_mvp.loc[df_mvp[\"PLAYER_AGE\"] == idade_min, \"PLAYER_NAME\"].unique()\n",
    "\n",
    "# Jogador(es) com idade máxima\n",
    "jogador_max = df_mvp.loc[df_mvp[\"PLAYER_AGE\"] == idade_max, \"PLAYER_NAME\"].unique()\n",
    "\n",
    "print(f\" Idade mínima: {idade_min} anos — Jogador(es): {', '.join(jogador_min)}\")\n",
    "print(f\" Idade máxima: {idade_max} anos — Jogador(es): {', '.join(jogador_max)}\")"
   ],
   "id": "3a115d2ac436d8e8",
   "outputs": [
    {
     "name": "stdout",
     "output_type": "stream",
     "text": [
      " Idade mínima: 22.0 anos — Jogador(es): Derrick Rose\n",
      " Idade máxima: 35.0 anos — Jogador(es): Michael Jordan, Karl Malone\n"
     ]
    }
   ],
   "execution_count": 129
  },
  {
   "metadata": {
    "ExecuteTime": {
     "end_time": "2025-08-16T08:10:15.523982Z",
     "start_time": "2025-08-16T08:10:15.422523Z"
    }
   },
   "cell_type": "code",
   "source": [
    "## 1.3 Idade do MVP por década\n",
    "# Extrair o ano da temporada\n",
    "df_mvp[\"Year\"] = df_mvp[\"SEASON_ID\"].str[:4].astype(int)\n",
    "\n",
    "# Criar coluna \"Decade\"\n",
    "df_mvp[\"Decade\"] = (df_mvp[\"Year\"] // 10) * 10\n",
    "\n",
    "# Calcular idade média por década\n",
    "df_idade_decada = df_mvp.groupby(\"Decade\")[\"PLAYER_AGE\"].mean().reset_index()\n",
    "df_idade_decada.rename(columns={\"PLAYER_AGE\": \"AverageAge\"}, inplace=True)\n",
    "\n",
    "# Exibir idade média por década\n",
    "idade_por_decada = dict(zip(df_idade_decada[\"Decade\"], df_idade_decada[\"AverageAge\"]))\n",
    "print(\" Idade média dos MVPs por década:\")\n",
    "for decada, idade in idade_por_decada.items():\n",
    "    print(f\"  • {decada}s: {idade:.1f} anos\")\n",
    "\n",
    "# Plot manual com cores do colormap\n",
    "cmap = plt.get_cmap(\"viridis\")\n",
    "colors = [cmap(i / len(df_idade_decada)) for i in range(len(df_idade_decada))]\n",
    "\n",
    "plt.figure(figsize=(10,6))\n",
    "bars = plt.bar(df_idade_decada[\"Decade\"].astype(str), df_idade_decada[\"AverageAge\"], color=colors)\n",
    "\n",
    "# Adicionar valores acima de cada barra\n",
    "for bar in bars:\n",
    "    yval = bar.get_height()\n",
    "    plt.text(bar.get_x() + bar.get_width()/2, yval + 0.1, f\"{yval:.1f}\", ha='center', fontsize=11)\n",
    "\n",
    "plt.title(\"Idade Média dos MVPs por Década\", fontsize=14)\n",
    "plt.xlabel(\"Década\", fontsize=12)\n",
    "plt.ylabel(\"Idade Média\", fontsize=12)\n",
    "plt.ylim(0, max(df_idade_decada[\"AverageAge\"]) + 5)  # espaço para os valores\n",
    "plt.show()"
   ],
   "id": "d3ca9fccd21facc5",
   "outputs": [
    {
     "name": "stdout",
     "output_type": "stream",
     "text": [
      " Idade média dos MVPs por década:\n",
      "  • 1970s: 28.2 anos\n",
      "  • 1980s: 27.8 anos\n",
      "  • 1990s: 31.1 anos\n",
      "  • 2000s: 27.7 anos\n",
      "  • 2010s: 26.2 anos\n",
      "  • 2020s: 27.4 anos\n"
     ]
    },
    {
     "data": {
      "text/plain": [
       "<Figure size 1000x600 with 1 Axes>"
      ],
      "image/png": "[encoded data removed]"
     },
     "metadata": {},
     "output_type": "display_data"
    }
   ],
   "execution_count": 130
  },
  {
   "metadata": {
    "ExecuteTime": {
     "end_time": "2025-08-16T08:10:15.531988Z",
     "start_time": "2025-08-16T08:10:15.529455Z"
    }
   },
   "cell_type": "code",
   "source": [
    "## 2 - Produção Ofensiva\n",
    "\n",
    "### 2.1 Pontuação média por jogo dos MVPs\n",
    "\n",
    "### 2.2 Média de pontos por jogo dos MVPs\n",
    "\n",
    "### 2.3 Evolução do aproveitamento de arremessos (FG%) ao longo das décadas\n",
    "\n",
    "### 2.4 Arremesso de 3 pontos (3P%) nos MVPs modernos\n"
   ],
   "id": "4ebf9a3cf4800191",
   "outputs": [],
   "execution_count": 131
  },
  {
   "metadata": {
    "ExecuteTime": {
     "end_time": "2025-08-16T08:10:15.549632Z",
     "start_time": "2025-08-16T08:10:15.545088Z"
    }
   },
   "cell_type": "code",
   "source": [
    "# 2.1 Pontuação média por jogo dos MVPs\n",
    "print(\" 2.1 Pontuação média por jogo dos MVPs\")\n",
    "\n",
    "# Garantir que PTS e GP sejam numéricos\n",
    "df_mvp[\"PTS\"] = pd.to_numeric(df_mvp[\"PTS\"], errors='coerce')\n",
    "df_mvp[\"GP\"] = pd.to_numeric(df_mvp[\"GP\"], errors='coerce')\n",
    "\n",
    "# Calcular pontuação média por jogo\n",
    "pts_medio_jogo = (df_mvp[\"PTS\"] / df_mvp[\"GP\"]).mean()\n",
    "print(f\" Pontuação média por jogo: {pts_medio_jogo:.1f} pontos\")"
   ],
   "id": "3fdc8c8b1382dc2e",
   "outputs": [
    {
     "name": "stdout",
     "output_type": "stream",
     "text": [
      " 2.1 Pontuação média por jogo dos MVPs\n",
      " Pontuação média por jogo: 27.0 pontos\n"
     ]
    }
   ],
   "execution_count": 132
  },
  {
   "metadata": {
    "ExecuteTime": {
     "end_time": "2025-08-16T08:10:15.574118Z",
     "start_time": "2025-08-16T08:10:15.564322Z"
    }
   },
   "cell_type": "code",
   "source": [
    "# 2.2 Média de pontos por jogo dos MVPs\n",
    "print(\"\\n 2.2 Média de Pontos por Jogo de Todos os MVPs\")\n",
    "\n",
    "# Calcular média de pontos por jogo para cada linha\n",
    "df_mvp[\"PTS_PG\"] = df_mvp[\"PTS\"] / df_mvp[\"GP\"]\n",
    "\n",
    "# Adicionar ano da temporada\n",
    "df_mvp[\"Year\"] = df_mvp[\"SEASON_ID\"].str[:4].astype(int)\n",
    "\n",
    "# Encontrar maior e menor PTS por jogo\n",
    "max_pts_pg = df_mvp[\"PTS_PG\"].max()\n",
    "min_pts_pg = df_mvp[\"PTS_PG\"].min()\n",
    "\n",
    "# Destacar os MVPs correspondentes\n",
    "df_mvp[\"Highlight\"] = df_mvp[\"PTS_PG\"].apply(\n",
    "    lambda x: \"Máximo\" if x == max_pts_pg else (\"Mínimo\" if x == min_pts_pg else \"\")\n",
    ")\n",
    "\n",
    "# Ordenar do maior para o menor PTS/PG\n",
    "df_mvp_sorted = df_mvp.sort_values(by=\"PTS_PG\", ascending=False)\n",
    "\n",
    "# Exibir todos os MVPs com média de pontos por jogo e ano\n",
    "for idx, row in df_mvp_sorted.iterrows():\n",
    "    destaque = f\" ({row['Highlight']})\" if row['Highlight'] else \"\"\n",
    "    print(f\" {row['PLAYER_NAME']} ({row['Year']}): {row['PTS_PG']:.1f} PTS/GP{destaque}\")"
   ],
   "id": "c4b66e0725fb87dc",
   "outputs": [
    {
     "name": "stdout",
     "output_type": "stream",
     "text": [
      "\n",
      " 2.2 Média de Pontos por Jogo de Todos os MVPs\n",
      " Michael Jordan (1987): 35.0 PTS/GP (Máximo)\n",
      " Joel Embiid (2022): 33.1 PTS/GP\n",
      " Shai Gilgeous-Alexander (2024): 32.7 PTS/GP\n",
      " Kevin Durant (2013): 32.0 PTS/GP\n",
      " Russell Westbrook (2016): 31.6 PTS/GP\n",
      " Michael Jordan (1990): 31.5 PTS/GP\n",
      " Moses Malone (1981): 31.1 PTS/GP\n",
      " Allen Iverson (2000): 31.1 PTS/GP\n",
      " James Harden (2017): 30.4 PTS/GP\n",
      " Michael Jordan (1995): 30.4 PTS/GP\n",
      " Stephen Curry (2015): 30.1 PTS/GP\n",
      " Michael Jordan (1991): 30.1 PTS/GP\n",
      " LeBron James (2009): 29.7 PTS/GP\n",
      " Shaquille O'Neal (1999): 29.7 PTS/GP\n",
      " Giannis Antetokounmpo (2019): 29.5 PTS/GP\n",
      " Michael Jordan (1997): 28.7 PTS/GP\n",
      " Larry Bird (1984): 28.7 PTS/GP\n",
      " LeBron James (2008): 28.4 PTS/GP\n",
      " Kobe Bryant (2007): 28.3 PTS/GP\n",
      " Kareem Abdul-Jabbar (1975): 27.7 PTS/GP\n",
      " Giannis Antetokounmpo (2018): 27.7 PTS/GP\n",
      " David Robinson (1994): 27.6 PTS/GP\n",
      " Karl Malone (1996): 27.4 PTS/GP\n",
      " Hakeem Olajuwon (1993): 27.3 PTS/GP\n",
      " LeBron James (2011): 27.1 PTS/GP\n",
      " Nikola Jokic (2021): 27.1 PTS/GP\n",
      " LeBron James (2012): 26.8 PTS/GP\n",
      " Nikola Jokic (2023): 26.4 PTS/GP\n",
      " Nikola Jokic (2020): 26.4 PTS/GP\n",
      " Kareem Abdul-Jabbar (1976): 26.2 PTS/GP\n",
      " Larry Bird (1985): 25.8 PTS/GP\n",
      " Charles Barkley (1992): 25.6 PTS/GP\n",
      " Tim Duncan (2001): 25.5 PTS/GP\n",
      " Derrick Rose (2010): 25.0 PTS/GP\n",
      " Kareem Abdul-Jabbar (1979): 24.8 PTS/GP\n",
      " Moses Malone (1978): 24.8 PTS/GP\n",
      " Dirk Nowitzki (2006): 24.6 PTS/GP\n",
      " Moses Malone (1982): 24.5 PTS/GP\n",
      " Kevin Garnett (2003): 24.2 PTS/GP\n",
      " Larry Bird (1983): 24.2 PTS/GP\n",
      " Magic Johnson (1986): 23.9 PTS/GP\n",
      " Karl Malone (1998): 23.8 PTS/GP\n",
      " Stephen Curry (2014): 23.8 PTS/GP\n",
      " Tim Duncan (2002): 23.3 PTS/GP\n",
      " Magic Johnson (1988): 22.5 PTS/GP\n",
      " Magic Johnson (1989): 22.3 PTS/GP\n",
      " Bill Walton (1977): 18.9 PTS/GP\n",
      " Steve Nash (2005): 18.8 PTS/GP\n",
      " Steve Nash (2004): 15.5 PTS/GP (Mínimo)\n"
     ]
    }
   ],
   "execution_count": 133
  },
  {
   "metadata": {
    "ExecuteTime": {
     "end_time": "2025-08-16T08:10:15.666568Z",
     "start_time": "2025-08-16T08:10:15.583642Z"
    }
   },
   "cell_type": "code",
   "source": [
    "# 2.2 Gráfico de média de pontos por jogo dos MVPs\n",
    "fig = px.scatter(\n",
    "    df_mvp,\n",
    "    x=\"Year\",\n",
    "    y=\"PTS_PG\",\n",
    "    color=\"Decade\",\n",
    "    color_discrete_sequence=px.colors.qualitative.Dark24,\n",
    "    hover_data={\n",
    "        \"PLAYER_NAME\": True,\n",
    "        \"Year\": True,\n",
    "        \"PTS\": True,\n",
    "        \"GP\": True,\n",
    "        \"PTS_PG\": \":.1f\"\n",
    "    },\n",
    "    title=\"Média de Pontos por Jogo dos MVPs por Temporada\",\n",
    "    labels={\n",
    "        \"PTS_PG\": \"Pontos por Jogo\",\n",
    "        \"Year\": \"Ano da Temporada\",\n",
    "        \"Decade\": \"Década\"\n",
    "    }\n",
    ")\n",
    "\n",
    "fig.update_layout(\n",
    "    legend_title_text=\"Década\",\n",
    "    title_font_size=18,\n",
    "    legend_font_size=12,\n",
    "    plot_bgcolor=\"#2f2f2f\",   # fundo do gráfico\n",
    "    paper_bgcolor=\"#2f2f2f\",  # fundo geral\n",
    "    font=dict(color=\"white\"),\n",
    "    xaxis=dict(\n",
    "        tickmode=\"linear\",\n",
    "        dtick=2,\n",
    "        showgrid=False,\n",
    "        showline=True,\n",
    "        linecolor=\"white\",  # linha inferior\n",
    "        mirror=False\n",
    "    ),\n",
    "    yaxis=dict(\n",
    "        tickformat=\".1f\",\n",
    "        showgrid=False,\n",
    "        showline=True,\n",
    "        linecolor=\"white\",  # linha lateral esquerda\n",
    "        mirror=False\n",
    "    )\n",
    ")\n",
    "\n",
    "fig.show()"
   ],
   "id": "aec8d01e88f816b3",
   "outputs": [
    {
     "data": {
      "text/html": [
       "<iframe\n",
       "    scrolling=\"no\"\n",
       "    width=\"100%\"\n",
       "    height=\"545px\"\n",
       "    src=\"iframe_figures/figure_134.html\"\n",
       "    frameborder=\"0\"\n",
       "    allowfullscreen\n",
       "></iframe>\n"
      ]
     },
     "metadata": {},
     "output_type": "display_data"
    }
   ],
   "execution_count": 134
  }
 ],
 "metadata": {
  "kernelspec": {
   "display_name": "Python 3",
   "language": "python",
   "name": "python3"
  },
  "language_info": {
   "codemirror_mode": {
    "name": "ipython",
    "version": 2
   },
   "file_extension": ".py",
   "mimetype": "text/x-python",
   "name": "python",
   "nbconvert_exporter": "python",
   "pygments_lexer": "ipython2",
   "version": "2.7.6"
  }
 },
 "nbformat": 4,
 "nbformat_minor": 5
}
