{
 "cells": [
  {
   "metadata": {
    "ExecuteTime": {
     "end_time": "2025-08-16T05:30:56.935449Z",
     "start_time": "2025-08-16T05:30:56.931860Z"
    }
   },
   "cell_type": "code",
   "source": [
    "# ============================================================\n",
    "# # 1️⃣ Importações\n",
    "# ============================================================\n",
    "import pandas as pd\n",
    "import time\n",
    "import unicodedata\n",
    "from nba_api.stats.static import players\n",
    "from nba_api.stats.endpoints import PlayerCareerStats"
   ],
   "id": "b3249ef255cb44",
   "outputs": [],
   "execution_count": 26
  },
  {
   "metadata": {
    "ExecuteTime": {
     "end_time": "2025-08-16T05:14:29.730414Z",
     "start_time": "2025-08-16T05:14:29.724886Z"
    }
   },
   "cell_type": "code",
   "source": [
    "# ============================================================\n",
    "# # 2️⃣ Função de normalização\n",
    "# ============================================================\n",
    "def normalize(text):\n",
    "    return ''.join(\n",
    "        c for c in unicodedata.normalize('NFD', text)\n",
    "        if unicodedata.category(c) != 'Mn'\n",
    "    ).lower()"
   ],
   "id": "7217914f01c06a2a",
   "outputs": [],
   "execution_count": 17
  },
  {
   "metadata": {
    "ExecuteTime": {
     "end_time": "2025-08-16T05:14:39.129673Z",
     "start_time": "2025-08-16T05:14:39.123977Z"
    }
   },
   "cell_type": "code",
   "source": [
    "# ============================================================\n",
    "# # 3️⃣ Dicionário com MVPs e temporadas\n",
    "# ============================================================\n",
    "mvp_seasons = {\n",
    "    \"Kareem Abdul-Jabbar\": [\"1975-76\", \"1976-77\", \"1979-80\"],\n",
    "    \"Bill Walton\": [\"1977-78\"],\n",
    "    \"Moses Malone\": [\"1978-79\", \"1981-82\", \"1982-83\"],\n",
    "    \"Larry Bird\": [\"1983-84\", \"1984-85\", \"1985-86\"],\n",
    "    \"Magic Johnson\": [\"1986-87\", \"1988-89\", \"1989-90\"],\n",
    "    \"Michael Jordan\": [\"1987-88\", \"1990-91\", \"1991-92\", \"1995-96\", \"1997-98\"],\n",
    "    \"Charles Barkley\": [\"1992-93\"],\n",
    "    \"Hakeem Olajuwon\": [\"1993-94\"],\n",
    "    \"David Robinson\": [\"1994-95\"],\n",
    "    \"Karl Malone\": [\"1996-97\", \"1998-99\"],\n",
    "    \"Shaquille O'Neal\": [\"1999-00\"],\n",
    "    \"Allen Iverson\": [\"2000-01\"],\n",
    "    \"Tim Duncan\": [\"2001-02\", \"2002-03\"],\n",
    "    \"Kevin Garnett\": [\"2003-04\"],\n",
    "    \"Steve Nash\": [\"2004-05\", \"2005-06\"],\n",
    "    \"Dirk Nowitzki\": [\"2006-07\"],\n",
    "    \"Kobe Bryant\": [\"2007-08\"],\n",
    "    \"LeBron James\": [\"2008-09\", \"2009-10\", \"2011-12\", \"2012-13\"],\n",
    "    \"Derrick Rose\": [\"2010-11\"],\n",
    "    \"Kevin Durant\": [\"2013-14\"],\n",
    "    \"Stephen Curry\": [\"2014-15\", \"2015-16\"],\n",
    "    \"Russell Westbrook\": [\"2016-17\"],\n",
    "    \"James Harden\": [\"2017-18\"],\n",
    "    \"Giannis Antetokounmpo\": [\"2018-19\", \"2019-20\"],\n",
    "    \"Nikola Jokic\": [\"2020-21\", \"2021-22\", \"2023-24\"],\n",
    "    \"Joel Embiid\": [\"2022-23\"],\n",
    "    \"Shai Gilgeous-Alexander\": [\"2024-25\"]\n",
    "}"
   ],
   "id": "873f10957dd1f13d",
   "outputs": [],
   "execution_count": 18
  },
  {
   "metadata": {
    "ExecuteTime": {
     "end_time": "2025-08-16T05:14:50.020850Z",
     "start_time": "2025-08-16T05:14:49.475314Z"
    }
   },
   "cell_type": "code",
   "source": [
    "# ============================================================\n",
    "# # 4️⃣ Obter IDs dos jogadores\n",
    "# ============================================================\n",
    "player_dict = players.get_players()\n",
    "mvp_ids = {}\n",
    "\n",
    "for name in mvp_seasons.keys():\n",
    "    found = [p for p in player_dict if normalize(p['full_name']) == normalize(name)]\n",
    "    if found:\n",
    "        mvp_ids[name] = found[0]['id']\n",
    "    else:\n",
    "        print(f\"⚠️ Não encontrei {name} na API\")"
   ],
   "id": "4fc10164feaa88b5",
   "outputs": [],
   "execution_count": 19
  },
  {
   "metadata": {
    "ExecuteTime": {
     "end_time": "2025-08-16T05:15:26.294768Z",
     "start_time": "2025-08-16T05:14:58.085751Z"
    }
   },
   "cell_type": "code",
   "source": [
    "# ============================================================\n",
    "# # 5️⃣ Coletar estatísticas das temporadas MVP\n",
    "# ============================================================\n",
    "mvp_data = []\n",
    "\n",
    "for name, seasons in mvp_seasons.items():\n",
    "    print(f\"Coletando dados de {name}...\")\n",
    "    pid = mvp_ids.get(name)\n",
    "\n",
    "    if pid is None:\n",
    "        print(f\"⚠️ ID não encontrado para {name}\")\n",
    "        continue\n",
    "\n",
    "    career = PlayerCareerStats(player_id=pid)\n",
    "    df = career.get_data_frames()[0]\n",
    "    df['SEASON_ID'] = df['SEASON_ID'].astype(str)\n",
    "    df_filtered = df[df['SEASON_ID'].isin(seasons)].copy()\n",
    "    df_filtered[\"PLAYER_NAME\"] = name\n",
    "\n",
    "    if not df_filtered.empty:\n",
    "        mvp_data.append(df_filtered)\n",
    "\n",
    "    time.sleep(1)  # evitar bloqueio da API"
   ],
   "id": "93728a3ff09cd950",
   "outputs": [
    {
     "name": "stdout",
     "output_type": "stream",
     "text": [
      "Coletando dados de Kareem Abdul-Jabbar...\n",
      "Coletando dados de Bill Walton...\n",
      "Coletando dados de Moses Malone...\n",
      "Coletando dados de Larry Bird...\n",
      "Coletando dados de Magic Johnson...\n",
      "Coletando dados de Michael Jordan...\n",
      "Coletando dados de Charles Barkley...\n",
      "Coletando dados de Hakeem Olajuwon...\n",
      "Coletando dados de David Robinson...\n",
      "Coletando dados de Karl Malone...\n",
      "Coletando dados de Shaquille O'Neal...\n",
      "Coletando dados de Allen Iverson...\n",
      "Coletando dados de Tim Duncan...\n",
      "Coletando dados de Kevin Garnett...\n",
      "Coletando dados de Steve Nash...\n",
      "Coletando dados de Dirk Nowitzki...\n",
      "Coletando dados de Kobe Bryant...\n",
      "Coletando dados de LeBron James...\n",
      "Coletando dados de Derrick Rose...\n",
      "Coletando dados de Kevin Durant...\n",
      "Coletando dados de Stephen Curry...\n",
      "Coletando dados de Russell Westbrook...\n",
      "Coletando dados de James Harden...\n",
      "Coletando dados de Giannis Antetokounmpo...\n",
      "Coletando dados de Nikola Jokic...\n",
      "Coletando dados de Joel Embiid...\n",
      "Coletando dados de Shai Gilgeous-Alexander...\n"
     ]
    }
   ],
   "execution_count": 20
  },
  {
   "metadata": {
    "ExecuteTime": {
     "end_time": "2025-08-16T05:16:37.813818Z",
     "start_time": "2025-08-16T05:16:37.807893Z"
    }
   },
   "cell_type": "code",
   "source": [
    "# ============================================================\n",
    "# # 6️⃣ Dicionário de tradução/descrição das colunas\n",
    "# ============================================================\n",
    "col_descriptions = {\n",
    "    \"PLAYER_NAME\": \"Nome do jogador\",\n",
    "    \"SEASON_ID\": \"Temporada\",\n",
    "    \"TEAM_ABBREVIATION\": \"Abreviação do time\",\n",
    "    \"GP\": \"Partidas jogadas\",\n",
    "    \"GS\": \"Partidas iniciadas como titular\",\n",
    "    \"MIN\": \"Minutos jogados\",\n",
    "    \"FGM\": \"Cestas de campo feitas\",\n",
    "    \"FGA\": \"Cestas de campo tentadas\",\n",
    "    \"FG_PCT\": \"Percentual de acerto de cestas de campo\",\n",
    "    \"FG3M\": \"Três pontos feitos\",\n",
    "    \"FG3A\": \"Três pontos tentados\",\n",
    "    \"FG3_PCT\": \"Percentual de acerto de três pontos\",\n",
    "    \"FTM\": \"Lances livres feitos\",\n",
    "    \"FTA\": \"Lances livres tentados\",\n",
    "    \"FT_PCT\": \"Percentual de acerto de lances livres\",\n",
    "    \"OREB\": \"Rebotes ofensivos\",\n",
    "    \"DREB\": \"Rebotes defensivos\",\n",
    "    \"REB\": \"Total de rebotes\",\n",
    "    \"AST\": \"Assistências\",\n",
    "    \"STL\": \"Roubos de bola\",\n",
    "    \"BLK\": \"Tocos\",\n",
    "    \"TOV\": \"Turnovers (perdas de posse)\",\n",
    "    \"PF\": \"Faltas pessoais\",\n",
    "    \"PTS\": \"Pontos marcados\",\n",
    "    \"PLUS_MINUS\": \"Diferença de pontos enquanto esteve em quadra\"\n",
    "}\n",
    "\n",
    "# Exibir o dicionário\n",
    "print(\"📌 Dicionário de tradução/descrição das colunas:\")\n",
    "for col, desc in col_descriptions.items():\n",
    "    print(f\"{col}: {desc}\")"
   ],
   "id": "98d49e60d110ae09",
   "outputs": [
    {
     "name": "stdout",
     "output_type": "stream",
     "text": [
      "📌 Dicionário de tradução/descrição das colunas:\n",
      "PLAYER_NAME: Nome do jogador\n",
      "SEASON_ID: Temporada\n",
      "TEAM_ABBREVIATION: Abreviação do time\n",
      "GP: Partidas jogadas\n",
      "GS: Partidas iniciadas como titular\n",
      "MIN: Minutos jogados\n",
      "FGM: Cestas de campo feitas\n",
      "FGA: Cestas de campo tentadas\n",
      "FG_PCT: Percentual de acerto de cestas de campo\n",
      "FG3M: Três pontos feitos\n",
      "FG3A: Três pontos tentados\n",
      "FG3_PCT: Percentual de acerto de três pontos\n",
      "FTM: Lances livres feitos\n",
      "FTA: Lances livres tentados\n",
      "FT_PCT: Percentual de acerto de lances livres\n",
      "OREB: Rebotes ofensivos\n",
      "DREB: Rebotes defensivos\n",
      "REB: Total de rebotes\n",
      "AST: Assistências\n",
      "STL: Roubos de bola\n",
      "BLK: Tocos\n",
      "TOV: Turnovers (perdas de posse)\n",
      "PF: Faltas pessoais\n",
      "PTS: Pontos marcados\n",
      "PLUS_MINUS: Diferença de pontos enquanto esteve em quadra\n"
     ]
    }
   ],
   "execution_count": 21
  },
  {
   "metadata": {
    "ExecuteTime": {
     "end_time": "2025-08-16T05:19:18.370766Z",
     "start_time": "2025-08-16T05:19:18.347035Z"
    }
   },
   "cell_type": "code",
   "source": [
    "# ============================================================\n",
    "# # 7️⃣ Concatenar, organizar, ajustar, exibir e salvar DataFrame\n",
    "# ============================================================\n",
    "if mvp_data:\n",
    "    # Concatenar todos os DataFrames\n",
    "    df_mvp = pd.concat(mvp_data, ignore_index=True)\n",
    "\n",
    "    # Remover colunas desnecessárias\n",
    "    df_mvp = df_mvp.drop(columns=[\"PLAYER_ID\", \"LEAGUE_ID\", \"TEAM_ID\"], errors=\"ignore\")\n",
    "\n",
    "    # Converter colunas que devem ser inteiras, tratando NaNs\n",
    "    int_columns = [\n",
    "        \"GP\", \"GS\", \"MIN\", \"FGM\", \"FGA\", \"FG3M\", \"FG3A\", \"FTM\", \"FTA\",\n",
    "        \"OREB\", \"DREB\", \"REB\", \"AST\", \"STL\", \"BLK\", \"TOV\", \"PF\", \"PTS\"\n",
    "    ]\n",
    "    for col in int_columns:\n",
    "        if col in df_mvp.columns:\n",
    "            # Substituir NaN por 0 antes da conversão\n",
    "            df_mvp[col] = df_mvp[col].fillna(0).astype(int)\n",
    "\n",
    "    # Exibir os primeiros registros\n",
    "    print(\"\\n📊 Primeiros registros do DataFrame MVP:\")\n",
    "    print(df_mvp.head())\n",
    "\n",
    "    # Salvar em CSV\n",
    "    df_mvp.to_csv(\"mvp_stats.csv\", index=False)\n",
    "else:\n",
    "    df_mvp = pd.DataFrame()\n",
    "    print(\"⚠️ Nenhum dado foi coletado.\")"
   ],
   "id": "bf2996a06f09cf4f",
   "outputs": [
    {
     "name": "stdout",
     "output_type": "stream",
     "text": [
      "\n",
      "📊 Primeiros registros do DataFrame MVP:\n",
      "  SEASON_ID TEAM_ABBREVIATION  PLAYER_AGE  GP  GS   MIN  FGM   FGA  FG_PCT  \\\n",
      "0   1975-76               LAL        29.0  82  82  3379  914  1728   0.529   \n",
      "1   1976-77               LAL        30.0  82  82  3016  888  1533   0.579   \n",
      "2   1979-80               LAL        33.0  82  81  3143  835  1383   0.604   \n",
      "3   1977-78               POR        25.0  58   0  1929  460   882   0.522   \n",
      "4   1978-79               HOU        24.0  82  82  3390  716  1325   0.540   \n",
      "\n",
      "   FG3M  ...  OREB  DREB   REB  AST  STL  BLK  TOV   PF   PTS  \\\n",
      "0     0  ...   272  1111  1383  413  119  338    0  292  2275   \n",
      "1     0  ...   266   824  1090  319  101  261    0  262  2152   \n",
      "2     0  ...   190   696   886  371   81  280  297  216  2034   \n",
      "3     0  ...   118   648   766  291   60  146  206  145  1097   \n",
      "4     0  ...   587   857  1444  147   79  119  326  223  2031   \n",
      "\n",
      "           PLAYER_NAME  \n",
      "0  Kareem Abdul-Jabbar  \n",
      "1  Kareem Abdul-Jabbar  \n",
      "2  Kareem Abdul-Jabbar  \n",
      "3          Bill Walton  \n",
      "4         Moses Malone  \n",
      "\n",
      "[5 rows x 25 columns]\n"
     ]
    }
   ],
   "execution_count": 24
  }
 ],
 "metadata": {
  "kernelspec": {
   "display_name": "Python 3",
   "language": "python",
   "name": "python3"
  },
  "language_info": {
   "codemirror_mode": {
    "name": "ipython",
    "version": 2
   },
   "file_extension": ".py",
   "mimetype": "text/x-python",
   "name": "python",
   "nbconvert_exporter": "python",
   "pygments_lexer": "ipython2",
   "version": "2.7.6"
  }
 },
 "nbformat": 4,
 "nbformat_minor": 5
}
