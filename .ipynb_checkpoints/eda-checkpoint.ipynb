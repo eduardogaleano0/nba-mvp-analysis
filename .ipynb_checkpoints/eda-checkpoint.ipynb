{
 "cells": [
  {
   "cell_type": "code",
   "id": "initial_id",
   "metadata": {
    "collapsed": true,
    "ExecuteTime": {
     "end_time": "2025-08-16T06:02:52.699143Z",
     "start_time": "2025-08-16T06:02:52.670077Z"
    }
   },
   "source": [
    "import pandas as pd\n",
    "import matplotlib.pyplot as plt\n",
    "import seaborn as sns\n",
    "\n",
    "# Configurações estéticas\n",
    "sns.set(style=\"whitegrid\")\n",
    "plt.rcParams[\"figure.figsize\"] = (12, 6)\n",
    "\n",
    "# Carregar CSV\n",
    "df_mvp = pd.read_csv(\"mvp_stats.csv\")\n",
    "\n",
    "# Visualizar as primeiras linhas\n",
    "df_mvp.head()"
   ],
   "outputs": [
    {
     "data": {
      "text/plain": [
       "  SEASON_ID TEAM_ABBREVIATION  PLAYER_AGE  GP  GS   MIN  FGM   FGA  FG_PCT  \\\n",
       "0   1975-76               LAL        29.0  82  82  3379  914  1728   0.529   \n",
       "1   1976-77               LAL        30.0  82  82  3016  888  1533   0.579   \n",
       "2   1979-80               LAL        33.0  82  81  3143  835  1383   0.604   \n",
       "3   1977-78               POR        25.0  58   0  1929  460   882   0.522   \n",
       "4   1978-79               HOU        24.0  82  82  3390  716  1325   0.540   \n",
       "\n",
       "   FG3M  ...  OREB  DREB   REB  AST  STL  BLK  TOV   PF   PTS  \\\n",
       "0     0  ...   272  1111  1383  413  119  338    0  292  2275   \n",
       "1     0  ...   266   824  1090  319  101  261    0  262  2152   \n",
       "2     0  ...   190   696   886  371   81  280  297  216  2034   \n",
       "3     0  ...   118   648   766  291   60  146  206  145  1097   \n",
       "4     0  ...   587   857  1444  147   79  119  326  223  2031   \n",
       "\n",
       "           PLAYER_NAME  \n",
       "0  Kareem Abdul-Jabbar  \n",
       "1  Kareem Abdul-Jabbar  \n",
       "2  Kareem Abdul-Jabbar  \n",
       "3          Bill Walton  \n",
       "4         Moses Malone  \n",
       "\n",
       "[5 rows x 25 columns]"
      ],
      "text/html": [
       "<div>\n",
       "<style scoped>\n",
       "    .dataframe tbody tr th:only-of-type {\n",
       "        vertical-align: middle;\n",
       "    }\n",
       "\n",
       "    .dataframe tbody tr th {\n",
       "        vertical-align: top;\n",
       "    }\n",
       "\n",
       "    .dataframe thead th {\n",
       "        text-align: right;\n",
       "    }\n",
       "</style>\n",
       "<table border=\"1\" class=\"dataframe\">\n",
       "  <thead>\n",
       "    <tr style=\"text-align: right;\">\n",
       "      <th></th>\n",
       "      <th>SEASON_ID</th>\n",
       "      <th>TEAM_ABBREVIATION</th>\n",
       "      <th>PLAYER_AGE</th>\n",
       "      <th>GP</th>\n",
       "      <th>GS</th>\n",
       "      <th>MIN</th>\n",
       "      <th>FGM</th>\n",
       "      <th>FGA</th>\n",
       "      <th>FG_PCT</th>\n",
       "      <th>FG3M</th>\n",
       "      <th>...</th>\n",
       "      <th>OREB</th>\n",
       "      <th>DREB</th>\n",
       "      <th>REB</th>\n",
       "      <th>AST</th>\n",
       "      <th>STL</th>\n",
       "      <th>BLK</th>\n",
       "      <th>TOV</th>\n",
       "      <th>PF</th>\n",
       "      <th>PTS</th>\n",
       "      <th>PLAYER_NAME</th>\n",
       "    </tr>\n",
       "  </thead>\n",
       "  <tbody>\n",
       "    <tr>\n",
       "      <th>0</th>\n",
       "      <td>1975-76</td>\n",
       "      <td>LAL</td>\n",
       "      <td>29.0</td>\n",
       "      <td>82</td>\n",
       "      <td>82</td>\n",
       "      <td>3379</td>\n",
       "      <td>914</td>\n",
       "      <td>1728</td>\n",
       "      <td>0.529</td>\n",
       "      <td>0</td>\n",
       "      <td>...</td>\n",
       "      <td>272</td>\n",
       "      <td>1111</td>\n",
       "      <td>1383</td>\n",
       "      <td>413</td>\n",
       "      <td>119</td>\n",
       "      <td>338</td>\n",
       "      <td>0</td>\n",
       "      <td>292</td>\n",
       "      <td>2275</td>\n",
       "      <td>Kareem Abdul-Jabbar</td>\n",
       "    </tr>\n",
       "    <tr>\n",
       "      <th>1</th>\n",
       "      <td>1976-77</td>\n",
       "      <td>LAL</td>\n",
       "      <td>30.0</td>\n",
       "      <td>82</td>\n",
       "      <td>82</td>\n",
       "      <td>3016</td>\n",
       "      <td>888</td>\n",
       "      <td>1533</td>\n",
       "      <td>0.579</td>\n",
       "      <td>0</td>\n",
       "      <td>...</td>\n",
       "      <td>266</td>\n",
       "      <td>824</td>\n",
       "      <td>1090</td>\n",
       "      <td>319</td>\n",
       "      <td>101</td>\n",
       "      <td>261</td>\n",
       "      <td>0</td>\n",
       "      <td>262</td>\n",
       "      <td>2152</td>\n",
       "      <td>Kareem Abdul-Jabbar</td>\n",
       "    </tr>\n",
       "    <tr>\n",
       "      <th>2</th>\n",
       "      <td>1979-80</td>\n",
       "      <td>LAL</td>\n",
       "      <td>33.0</td>\n",
       "      <td>82</td>\n",
       "      <td>81</td>\n",
       "      <td>3143</td>\n",
       "      <td>835</td>\n",
       "      <td>1383</td>\n",
       "      <td>0.604</td>\n",
       "      <td>0</td>\n",
       "      <td>...</td>\n",
       "      <td>190</td>\n",
       "      <td>696</td>\n",
       "      <td>886</td>\n",
       "      <td>371</td>\n",
       "      <td>81</td>\n",
       "      <td>280</td>\n",
       "      <td>297</td>\n",
       "      <td>216</td>\n",
       "      <td>2034</td>\n",
       "      <td>Kareem Abdul-Jabbar</td>\n",
       "    </tr>\n",
       "    <tr>\n",
       "      <th>3</th>\n",
       "      <td>1977-78</td>\n",
       "      <td>POR</td>\n",
       "      <td>25.0</td>\n",
       "      <td>58</td>\n",
       "      <td>0</td>\n",
       "      <td>1929</td>\n",
       "      <td>460</td>\n",
       "      <td>882</td>\n",
       "      <td>0.522</td>\n",
       "      <td>0</td>\n",
       "      <td>...</td>\n",
       "      <td>118</td>\n",
       "      <td>648</td>\n",
       "      <td>766</td>\n",
       "      <td>291</td>\n",
       "      <td>60</td>\n",
       "      <td>146</td>\n",
       "      <td>206</td>\n",
       "      <td>145</td>\n",
       "      <td>1097</td>\n",
       "      <td>Bill Walton</td>\n",
       "    </tr>\n",
       "    <tr>\n",
       "      <th>4</th>\n",
       "      <td>1978-79</td>\n",
       "      <td>HOU</td>\n",
       "      <td>24.0</td>\n",
       "      <td>82</td>\n",
       "      <td>82</td>\n",
       "      <td>3390</td>\n",
       "      <td>716</td>\n",
       "      <td>1325</td>\n",
       "      <td>0.540</td>\n",
       "      <td>0</td>\n",
       "      <td>...</td>\n",
       "      <td>587</td>\n",
       "      <td>857</td>\n",
       "      <td>1444</td>\n",
       "      <td>147</td>\n",
       "      <td>79</td>\n",
       "      <td>119</td>\n",
       "      <td>326</td>\n",
       "      <td>223</td>\n",
       "      <td>2031</td>\n",
       "      <td>Moses Malone</td>\n",
       "    </tr>\n",
       "  </tbody>\n",
       "</table>\n",
       "<p>5 rows × 25 columns</p>\n",
       "</div>"
      ]
     },
     "execution_count": 1,
     "metadata": {},
     "output_type": "execute_result"
    }
   ],
   "execution_count": 1
  },
  {
   "metadata": {
    "ExecuteTime": {
     "end_time": "2025-08-16T06:04:15.851807Z",
     "start_time": "2025-08-16T06:04:15.848354Z"
    }
   },
   "cell_type": "code",
   "source": [
    "# 1️⃣ Perfil do Jogador MVP\n",
    "\n",
    "## 1.1 Idade média dos MVPs\n",
    "## 1.2 Idade mínima e máxima de um MVP\n",
    "## 1.3 Idade do MVP por década"
   ],
   "id": "bf3ea1c57851a438",
   "outputs": [],
   "execution_count": 2
  },
  {
   "metadata": {
    "ExecuteTime": {
     "end_time": "2025-08-16T06:08:58.429058Z",
     "start_time": "2025-08-16T06:08:58.423044Z"
    }
   },
   "cell_type": "code",
   "source": [
    "## 1.1 Idade média dos MVPs\n",
    "idade_media = df_mvp[\"PLAYER_AGE\"].mean()\n",
    "\n",
    "# Jogadores mais próximos da média\n",
    "dif_media = abs(df_mvp[\"PLAYER_AGE\"] - idade_media)\n",
    "jogador_media = df_mvp.loc[dif_media == dif_media.min(), \"PLAYER_NAME\"].unique()\n",
    "\n",
    "print(f\"🔹 Idade média dos MVPs: {idade_media:.1f} anos — Jogador(es) mais próximo da média: {', '.join(jogador_media)}\")"
   ],
   "id": "9c8546596c3c837d",
   "outputs": [
    {
     "name": "stdout",
     "output_type": "stream",
     "text": [
      "🔹 Idade média dos MVPs: 28.1 anos — Jogador(es) mais próximo da média: Moses Malone, Larry Bird, Michael Jordan, Shaquille O'Neal, Kevin Garnett, LeBron James, Stephen Curry, Russell Westbrook, James Harden\n"
     ]
    }
   ],
   "execution_count": 8
  },
  {
   "metadata": {
    "ExecuteTime": {
     "end_time": "2025-08-16T06:09:07.558043Z",
     "start_time": "2025-08-16T06:09:07.551586Z"
    }
   },
   "cell_type": "code",
   "source": [
    "## 1.2 Idade mínima e máxima de um MVP\n",
    "idade_min = df_mvp[\"PLAYER_AGE\"].min()\n",
    "idade_max = df_mvp[\"PLAYER_AGE\"].max()\n",
    "\n",
    "# Jogador(es) com idade mínima\n",
    "jogador_min = df_mvp.loc[df_mvp[\"PLAYER_AGE\"] == idade_min, \"PLAYER_NAME\"].unique()\n",
    "\n",
    "# Jogador(es) com idade máxima\n",
    "jogador_max = df_mvp.loc[df_mvp[\"PLAYER_AGE\"] == idade_max, \"PLAYER_NAME\"].unique()\n",
    "\n",
    "print(f\"🔹 Idade mínima: {idade_min} anos — Jogador(es): {', '.join(jogador_min)}\")\n",
    "print(f\"🔹 Idade máxima: {idade_max} anos — Jogador(es): {', '.join(jogador_max)}\")"
   ],
   "id": "3a115d2ac436d8e8",
   "outputs": [
    {
     "name": "stdout",
     "output_type": "stream",
     "text": [
      "🔹 Idade mínima: 22.0 anos — Jogador(es): Derrick Rose\n",
      "🔹 Idade máxima: 35.0 anos — Jogador(es): Michael Jordan, Karl Malone\n"
     ]
    }
   ],
   "execution_count": 9
  },
  {
   "metadata": {
    "ExecuteTime": {
     "end_time": "2025-08-16T06:09:44.911390Z",
     "start_time": "2025-08-16T06:09:44.900573Z"
    }
   },
   "cell_type": "code",
   "source": [
    "## 1.3 Idade do MVP por década\n",
    "# Criar coluna de década\n",
    "df_mvp[\"DECADE\"] = (df_mvp[\"SEASON_ID\"].str[:4].astype(int) // 10 * 10).astype(str) + \"s\"\n",
    "\n",
    "idade_por_decada = df_mvp.groupby(\"DECADE\")[\"PLAYER_AGE\"].mean().round(1)\n",
    "\n",
    "print(\"🔹 Idade média dos MVPs por década:\")\n",
    "for decada, idade in idade_por_decada.items():\n",
    "    print(f\"  • {decada}: {idade} anos\")"
   ],
   "id": "d3ca9fccd21facc5",
   "outputs": [
    {
     "name": "stdout",
     "output_type": "stream",
     "text": [
      "🔹 Idade média dos MVPs por década:\n",
      "  • 1970s: 28.2 anos\n",
      "  • 1980s: 27.8 anos\n",
      "  • 1990s: 31.1 anos\n",
      "  • 2000s: 27.7 anos\n",
      "  • 2010s: 26.2 anos\n",
      "  • 2020s: 27.4 anos\n"
     ]
    }
   ],
   "execution_count": 10
  }
 ],
 "metadata": {
  "kernelspec": {
   "display_name": "Python 3",
   "language": "python",
   "name": "python3"
  },
  "language_info": {
   "codemirror_mode": {
    "name": "ipython",
    "version": 2
   },
   "file_extension": ".py",
   "mimetype": "text/x-python",
   "name": "python",
   "nbconvert_exporter": "python",
   "pygments_lexer": "ipython2",
   "version": "2.7.6"
  }
 },
 "nbformat": 4,
 "nbformat_minor": 5
}
